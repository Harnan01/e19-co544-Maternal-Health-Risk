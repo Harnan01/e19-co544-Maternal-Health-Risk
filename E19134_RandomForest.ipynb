{
 "cells": [
  {
   "metadata": {},
   "cell_type": "markdown",
   "source": "# Backward feature analysis in Random Forest",
   "id": "397154720cb8b736"
  },
  {
   "metadata": {
    "ExecuteTime": {
     "end_time": "2024-06-20T13:35:43.158672Z",
     "start_time": "2024-06-20T13:35:23.757565Z"
    }
   },
   "cell_type": "code",
   "source": [
    "import pandas as pd\n",
    "from sklearn.preprocessing import StandardScaler\n",
    "from sklearn.ensemble import RandomForestClassifier\n",
    "from sklearn.model_selection import cross_val_score, train_test_split\n",
    "from sklearn.metrics import accuracy_score, classification_report\n",
    "\n",
    "# Load the data\n",
    "df = pd.read_csv('Maternal Health Risk Data Set.csv')\n",
    "\n",
    "# Separate features and target variable\n",
    "X = df.drop('RiskLevel', axis=1)\n",
    "y = df['RiskLevel']\n",
    "\n",
    "# Standardize the features (optional for Random Forest, but we'll do it to keep the same structure)\n",
    "scaler = StandardScaler()\n",
    "X = scaler.fit_transform(X)\n",
    "\n",
    "def backward_feature_elimination_rf(X, y, print_interval=1):\n",
    "    # Initialize variables\n",
    "    num_features = X.shape[1]\n",
    "    features = list(range(num_features))\n",
    "    best_score = 0\n",
    "    best_features = features.copy()\n",
    "    iteration_count = 0\n",
    "\n",
    "    while len(features) > 1:  # Ensure at least one feature remains\n",
    "        scores = []\n",
    "        for feature in features:\n",
    "            # Temporarily remove the feature\n",
    "            temp_features = [f for f in features if f != feature]\n",
    "            X_temp = X[:, temp_features]\n",
    "\n",
    "            # Perform Random Forest with cross-validation\n",
    "            try:\n",
    "                rf = RandomForestClassifier(n_estimators=100, random_state=42)\n",
    "                score = cross_val_score(rf, X_temp, y, cv=5, scoring='accuracy').mean()\n",
    "                scores.append((score, feature))\n",
    "            except ValueError as e:\n",
    "                print(f\"Error: {e}\")\n",
    "                continue\n",
    "\n",
    "        # Find the feature whose removal results in the highest score\n",
    "        if scores:\n",
    "            scores.sort(reverse=True)\n",
    "            best_score, worst_feature = scores[0]\n",
    "            features.remove(worst_feature)\n",
    "\n",
    "            # Keep track of the best feature set\n",
    "            if best_score >= max(scores)[0]:\n",
    "                best_features = features.copy()\n",
    "\n",
    "                if iteration_count % print_interval == 0:\n",
    "                    removed_reason = f\"Removed feature after {num_features - iteration_count} features: {worst_feature} (Score: {best_score:.2f})\"\n",
    "                    print(removed_reason)\n",
    "        else:\n",
    "            break\n",
    "\n",
    "        iteration_count += 1\n",
    "\n",
    "    return best_features, best_score\n",
    "\n",
    "# Set the print interval for feature removal\n",
    "print_interval = 1  # Change this to the desired interval (e.g., 6, 5, 4, etc.)\n",
    "\n",
    "# Perform backward feature elimination using Random Forest\n",
    "best_features, best_score = backward_feature_elimination_rf(X, y, print_interval=print_interval)\n",
    "\n",
    "print(f\"Best features: {best_features}\")\n",
    "print(f\"Best cross-validation score: {best_score:.2f}\")\n",
    "\n",
    "# Split the data into training and test sets\n",
    "X_train, X_test, y_train, y_test = train_test_split(X, y, test_size=0.2, random_state=42)\n",
    "\n",
    "# Train the Random Forest model with the best features\n",
    "rf = RandomForestClassifier(n_estimators=100, random_state=42)\n",
    "rf.fit(X_train[:, best_features], y_train)\n",
    "\n",
    "# Make predictions on the test set\n",
    "y_pred = rf.predict(X_test[:, best_features])\n",
    "\n",
    "# Evaluate the model\n",
    "accuracy = accuracy_score(y_test, y_pred)\n",
    "print(f'Accuracy with best features: {accuracy:.2f}')\n",
    "print(classification_report(y_test, y_pred))\n"
   ],
   "id": "9ecc1aefcabe7e41",
   "outputs": [
    {
     "name": "stdout",
     "output_type": "stream",
     "text": [
      "Removed feature after 6 features: 5 (Score: 0.82)\n",
      "Removed feature after 5 features: 4 (Score: 0.81)\n",
      "Removed feature after 4 features: 1 (Score: 0.81)\n",
      "Removed feature after 3 features: 3 (Score: 0.70)\n",
      "Removed feature after 2 features: 2 (Score: 0.54)\n",
      "Best features: [0]\n",
      "Best cross-validation score: 0.54\n",
      "Accuracy with best features: 0.51\n",
      "              precision    recall  f1-score   support\n",
      "\n",
      "   high risk       0.46      0.66      0.54        47\n",
      "    low risk       0.53      0.51      0.52        80\n",
      "    mid risk       0.55      0.42      0.48        76\n",
      "\n",
      "    accuracy                           0.51       203\n",
      "   macro avg       0.51      0.53      0.51       203\n",
      "weighted avg       0.52      0.51      0.51       203\n",
      "\n"
     ]
    }
   ],
   "execution_count": 1
  },
  {
   "metadata": {},
   "cell_type": "markdown",
   "source": [
    "From the results obtained through the backward feature elimination process using the Random Forest classifier, the following conclusions can be drawn:\n",
    "\n",
    "Initial Performance with All Features:\n",
    "\n",
    "The model initially performed well with all features, achieving cross-validation scores of 0.82 and 0.81 when certain features were removed. This indicates that the model can achieve reasonably high accuracy when multiple features are considered.\n",
    "Impact of Removing Features:\n",
    "\n",
    "As more features were removed, the performance of the model decreased significantly. The cross-validation score dropped to 0.70 and eventually to 0.54 when only one feature (feature 0) was left.\n",
    "Final Feature Selection:\n",
    "\n",
    "The final best feature set consisted of only one feature (feature 0), with a cross-validation score of 0.54. This suggests that, while feature 0 might have some predictive power, it is not sufficient on its own to produce a high-performing model.\n",
    "Test Set Performance:\n",
    "\n",
    "The test set accuracy with the selected best feature was 0.51, which is only marginally better than random guessing (approximately 0.33 for a three-class problem). The precision, recall, and F1-scores for each class also indicate that the model's performance is not satisfactory."
   ],
   "id": "2f800ca02506c053"
  },
  {
   "metadata": {
    "ExecuteTime": {
     "end_time": "2024-06-20T14:00:06.907506Z",
     "start_time": "2024-06-20T14:00:02.287211Z"
    }
   },
   "cell_type": "code",
   "source": [
    "import matplotlib.pyplot as plt\n",
    "from sklearn.ensemble import RandomForestClassifier\n",
    "\n",
    "# Try different values of n_estimators\n",
    "n_estimators_values = range(10, 210, 10)\n",
    "accuracies = []\n",
    "\n",
    "for n in n_estimators_values:\n",
    "    rf = RandomForestClassifier(n_estimators=n, random_state=42)\n",
    "    rf.fit(X_train, y_train)\n",
    "    y_pred = rf.predict(X_test)\n",
    "    accuracies.append(accuracy_score(y_test, y_pred))\n",
    "\n",
    "# Find the n_estimators value with the maximum accuracy\n",
    "max_accuracy = max(accuracies)\n",
    "best_n_estimators = n_estimators_values[accuracies.index(max_accuracy)]\n",
    "\n",
    "# Plot the accuracy for different values of n_estimators\n",
    "plt.plot(n_estimators_values, accuracies, marker='o')\n",
    "plt.xlabel('Number of Trees (n_estimators)')\n",
    "plt.ylabel('Accuracy')\n",
    "plt.title('Accuracy for different values of n_estimators')\n",
    "\n",
    "# Annotate the plot with the maximum accuracy\n",
    "plt.annotate(f'Max Accuracy = {max_accuracy:.2f} at n = {best_n_estimators}',\n",
    "             xy=(best_n_estimators, max_accuracy),\n",
    "             xytext=(best_n_estimators, max_accuracy + 0.02),\n",
    "             arrowprops=dict(facecolor='black', shrink=0.05),\n",
    "             ha='center')\n",
    "\n",
    "plt.show()\n"
   ],
   "id": "b98b684a7029f56b",
   "outputs": [
    {
     "data": {
      "text/plain": [
       "<Figure size 640x480 with 1 Axes>"
      ],
      "image/png": "[encoded data removed]"
     },
     "metadata": {},
     "output_type": "display_data"
    }
   ],
   "execution_count": 2
  },
  {
   "metadata": {},
   "cell_type": "markdown",
   "source": [
    "Trend in Accuracy:\n",
    "\n",
    "Accuracy increases as the number of trees (n_estimators) increases, up to a certain point.\n",
    "Accuracy plateaus between 100 and 150 trees, indicating diminishing returns beyond this range.\n",
    "Adding more trees beyond 150 does not significantly improve performance and may increase computational cost.\n",
    "Optimal Number of Trees:\n",
    "\n",
    "The optimal number of trees for the Random Forest model is between 100 and 150.\n",
    "Bias-Variance Trade-off:\n",
    "\n",
    "Initially, more trees reduce variance and improve performance.\n",
    "The plateau indicates a good balance between bias and variance is achieved around 100 to 150 trees.\n",
    "Model Stability:\n",
    "\n",
    "The model's performance is stable and reliable with the optimal number of trees, showing no significant degradation with additional trees.\n",
    "Actionable Steps\n",
    "Model Selection:\n",
    "\n",
    "Choose n_estimators between 100 and 150 for the best performance.\n",
    "Performance Considerations:\n",
    "\n",
    "Opt for 100 trees if computational resources are limited, as it provides near-optimal performance.\n",
    "Further Tuning:\n",
    "\n",
    "Focus on tuning other hyperparameters, such as max_depth and min_samples_split, to further enhance the model's performance."
   ],
   "id": "51103b188195dea6"
  },
  {
   "metadata": {
    "ExecuteTime": {
     "end_time": "2024-06-20T14:03:57.311104Z",
     "start_time": "2024-06-20T14:03:56.516911Z"
    }
   },
   "cell_type": "code",
   "source": [
    "import pandas as pd\n",
    "from sklearn.model_selection import train_test_split\n",
    "from sklearn.preprocessing import StandardScaler\n",
    "from sklearn.ensemble import RandomForestClassifier\n",
    "from sklearn.metrics import accuracy_score, classification_report\n",
    "\n",
    "# Load the data\n",
    "df = pd.read_csv('Maternal Health Risk Data Set.csv')\n",
    "\n",
    "# Separate features and target variable\n",
    "X = df.drop('RiskLevel', axis=1)\n",
    "y = df['RiskLevel']\n",
    "\n",
    "# Split the data into training and test sets\n",
    "X_train, X_test, y_train, y_test = train_test_split(X, y, test_size=0.2, random_state=42)\n",
    "\n",
    "# Standardize the features (optional for Random Forest, but we'll do it to maintain consistency)\n",
    "scaler = StandardScaler()\n",
    "X_train = scaler.fit_transform(X_train)\n",
    "X_test = scaler.transform(X_test)\n",
    "\n",
    "# Create and train the Random Forest classifier\n",
    "n_estimators = 100  # You can choose any number of trees\n",
    "rf = RandomForestClassifier(n_estimators=n_estimators, random_state=42)\n",
    "rf.fit(X_train, y_train)\n",
    "\n",
    "# Make predictions on the test set\n",
    "y_pred = rf.predict(X_test)\n",
    "\n",
    "# Evaluate the model\n",
    "accuracy = accuracy_score(y_test, y_pred)\n",
    "print(f'Accuracy: {accuracy:.2f}')\n",
    "\n",
    "# Print classification report\n",
    "print(classification_report(y_test, y_pred))\n"
   ],
   "id": "a08ee6533903d9d9",
   "outputs": [
    {
     "name": "stdout",
     "output_type": "stream",
     "text": [
      "Accuracy: 0.81\n",
      "              precision    recall  f1-score   support\n",
      "\n",
      "   high risk       0.87      0.85      0.86        47\n",
      "    low risk       0.86      0.75      0.80        80\n",
      "    mid risk       0.74      0.84      0.79        76\n",
      "\n",
      "    accuracy                           0.81       203\n",
      "   macro avg       0.82      0.81      0.82       203\n",
      "weighted avg       0.81      0.81      0.81       203\n",
      "\n"
     ]
    }
   ],
   "execution_count": 3
  },
  {
   "metadata": {},
   "cell_type": "markdown",
   "source": [
    "Class-Specific Performance:\n",
    "\n",
    "The model performs well in identifying \"high risk\" cases, with high precision (0.87) and recall (0.85), resulting in an F1-Score of 0.86.\n",
    "The \"low risk\" class has a good precision (0.86) but a lower recall (0.75), indicating that some \"low risk\" instances are being missed.\n",
    "The \"mid risk\" class has a slightly lower precision (0.74) but a high recall (0.84), suggesting that most \"mid risk\" cases are correctly identified, but there are some false positives.\n",
    "Overall Model Performance:\n",
    "\n",
    "The overall accuracy of 81% indicates that the model is performing well.\n",
    "The macro average and weighted average F1-Scores are both 0.82 and 0.81, respectively, indicating balanced performance across all classes.\n",
    "Areas for Improvement:\n",
    "\n",
    "Improving the recall for the \"low risk\" class could help balance the model further.\n",
    "Ensuring that the precision and recall are balanced across all classes could help improve overall model reliability."
   ],
   "id": "73c5d84548f9fa68"
  },
  {
   "metadata": {},
   "cell_type": "code",
   "outputs": [],
   "execution_count": null,
   "source": "",
   "id": "882aeebf198be9c9"
  }
 ],
 "metadata": {
  "kernelspec": {
   "display_name": "Python 3",
   "language": "python",
   "name": "python3"
  },
  "language_info": {
   "codemirror_mode": {
    "name": "ipython",
    "version": 2
   },
   "file_extension": ".py",
   "mimetype": "text/x-python",
   "name": "python",
   "nbconvert_exporter": "python",
   "pygments_lexer": "ipython2",
   "version": "2.7.6"
  }
 },
 "nbformat": 4,
 "nbformat_minor": 5
}
