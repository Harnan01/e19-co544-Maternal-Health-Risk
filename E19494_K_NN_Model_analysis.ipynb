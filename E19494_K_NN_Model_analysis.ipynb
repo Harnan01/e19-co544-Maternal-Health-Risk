{
  "nbformat": 4,
  "nbformat_minor": 0,
  "metadata": {
    "colab": {
      "provenance": []
    },
    "kernelspec": {
      "name": "python3",
      "display_name": "Python 3"
    },
    "language_info": {
      "name": "python"
    }
  },
  "cells": [
    {
      "cell_type": "markdown",
      "source": [
        "# Backward feature analysis in K-NN"
      ],
      "metadata": {
        "id": "B8usuy45hBKk"
      }
    },
    {
      "cell_type": "code",
      "source": [
        "import pandas as pd\n",
        "from sklearn.preprocessing import StandardScaler\n",
        "from sklearn.neighbors import KNeighborsClassifier\n",
        "from sklearn.model_selection import cross_val_score, train_test_split\n",
        "from sklearn.metrics import accuracy_score, classification_report\n",
        "\n",
        "# Load the data\n",
        "df = pd.read_csv('MHR.csv')\n",
        "\n",
        "# Separate features and target variable\n",
        "X = df.drop('RiskLevel', axis=1)\n",
        "y = df['RiskLevel']\n",
        "\n",
        "# Standardize the features (important for k-NN)\n",
        "scaler = StandardScaler()\n",
        "X = scaler.fit_transform(X)\n",
        "\n",
        "def backward_feature_elimination(X, y, k=1, print_interval=1):\n",
        "    # Initialize variables\n",
        "    num_features = X.shape[1]\n",
        "    features = list(range(num_features))\n",
        "    best_score = 0\n",
        "    best_features = features.copy()\n",
        "    iteration_count = 0\n",
        "\n",
        "    while len(features) > 1:  # Ensure at least one feature remains\n",
        "        scores = []\n",
        "        for feature in features:\n",
        "            # Temporarily remove the feature\n",
        "            temp_features = [f for f in features if f != feature]\n",
        "            X_temp = X[:, temp_features]\n",
        "\n",
        "            # Perform k-NN with cross-validation\n",
        "            try:\n",
        "                knn = KNeighborsClassifier(n_neighbors=k)\n",
        "                score = cross_val_score(knn, X_temp, y, cv=5, scoring='accuracy').mean()\n",
        "                scores.append((score, feature))\n",
        "            except ValueError as e:\n",
        "                print(f\"Error: {e}\")\n",
        "                continue\n",
        "\n",
        "        # Find the feature whose removal results in the highest score\n",
        "        if scores:\n",
        "            scores.sort(reverse=True)\n",
        "            best_score, worst_feature = scores[0]\n",
        "            features.remove(worst_feature)\n",
        "\n",
        "            # Keep track of the best feature set\n",
        "            if best_score >= max(scores)[0]:\n",
        "                best_features = features.copy()\n",
        "\n",
        "                if iteration_count % print_interval == 0:\n",
        "                    removed_reason = f\"Removed feature after {num_features - iteration_count} features: {worst_feature} (Score: {best_score:.2f})\"\n",
        "                    print(removed_reason)\n",
        "        else:\n",
        "            break\n",
        "\n",
        "        iteration_count += 1\n",
        "\n",
        "    return best_features, best_score\n",
        "\n",
        "# Set the print interval for feature removal\n",
        "print_interval = 1  # Change this to the desired interval (e.g., 6, 5, 4, etc.)\n",
        "\n",
        "# Perform backward feature elimination\n",
        "best_features, best_score = backward_feature_elimination(X, y, print_interval=print_interval)\n",
        "\n",
        "print(f\"Best features: {best_features}\")\n",
        "print(f\"Best cross-validation score: {best_score:.2f}\")\n",
        "\n",
        "# Split the data into training and test sets\n",
        "X_train, X_test, y_train, y_test = train_test_split(X, y, test_size=0.2, random_state=42)\n",
        "\n",
        "# Train the k-NN model with the best features\n",
        "knn = KNeighborsClassifier(n_neighbors=5)\n",
        "knn.fit(X_train[:, best_features], y_train)\n",
        "\n",
        "# Make predictions on the test set\n",
        "y_pred = knn.predict(X_test[:, best_features])\n",
        "\n",
        "# Evaluate the model\n",
        "accuracy = accuracy_score(y_test, y_pred)\n",
        "print(f'Accuracy with best features: {accuracy:.2f}')\n",
        "print(classification_report(y_test, y_pred))\n"
      ],
      "metadata": {
        "colab": {
          "base_uri": "https://localhost:8080/"
        },
        "id": "U_8meQ1QhG_L",
        "outputId": "93ecd55c-45d5-423d-d9c0-065108b28e17"
      },
      "execution_count": null,
      "outputs": [
        {
          "output_type": "stream",
          "name": "stdout",
          "text": [
            "Removed feature after 6 features: 4 (Score: 0.84)\n",
            "Removed feature after 5 features: 1 (Score: 0.83)\n",
            "Removed feature after 4 features: 5 (Score: 0.81)\n",
            "Removed feature after 3 features: 2 (Score: 0.70)\n",
            "Removed feature after 2 features: 3 (Score: 0.49)\n",
            "Best features: [0]\n",
            "Best cross-validation score: 0.49\n",
            "Accuracy with best features: 0.49\n",
            "              precision    recall  f1-score   support\n",
            "\n",
            "   high risk       0.49      0.64      0.56        47\n",
            "    low risk       0.49      0.49      0.49        80\n",
            "    mid risk       0.48      0.39      0.43        76\n",
            "\n",
            "    accuracy                           0.49       203\n",
            "   macro avg       0.49      0.51      0.49       203\n",
            "weighted avg       0.49      0.49      0.48       203\n",
            "\n"
          ]
        }
      ]
    },
    {
      "cell_type": "markdown",
      "source": [
        "Based on the results we obtained after performing backward feature elimination and evaluating the k-NN model with the best features, it seems that the model's performance decreased as features were removed. The final accuracy with the best features is 0.49, which indicates that the model is not performing well.\n",
        "\n",
        "In such a scenario, where the model's performance significantly drops after feature selection, it may not be appropriate to use the k-NN model with the selected features.\n",
        "\n",
        "If we're specifically interested in using the k-NN algorithm, we could experiment with different hyperparameters (such as the number of neighbors k) or consider using feature engineering techniques to create more informative features that could improve the model's accuracy. Additionally, we could also explore more advanced feature selection methods like forward selection or recursive feature elimination to find a better subset of features for the k-NN model."
      ],
      "metadata": {
        "id": "TRIghAIqoA2e"
      }
    },
    {
      "cell_type": "markdown",
      "source": [
        "## Trying out different k values"
      ],
      "metadata": {
        "id": "h9BmrdZnogw6"
      }
    },
    {
      "cell_type": "code",
      "execution_count": null,
      "metadata": {
        "id": "NtKIbhgleSxk"
      },
      "outputs": [],
      "source": [
        "import pandas as pd\n",
        "from sklearn.model_selection import train_test_split\n",
        "from sklearn.preprocessing import StandardScaler\n",
        "from sklearn.neighbors import KNeighborsClassifier\n",
        "from sklearn.metrics import accuracy_score, classification_report\n",
        "\n",
        "# Load the data\n",
        "df = pd.read_csv('MHR.csv')\n",
        "\n",
        "# Separate features and target variable\n",
        "X = df.drop('RiskLevel', axis=1)\n",
        "y = df['RiskLevel']\n",
        "\n",
        "# Split the data into training and test sets\n",
        "X_train, X_test, y_train, y_test = train_test_split(X, y, test_size=0.2, random_state=42)\n",
        "\n",
        "# Standardize the features (important for k-NN)\n",
        "scaler = StandardScaler()\n",
        "X_train = scaler.fit_transform(X_train)\n",
        "X_test = scaler.transform(X_test)\n",
        "\n",
        "\n"
      ]
    },
    {
      "cell_type": "code",
      "source": [
        "import matplotlib.pyplot as plt\n",
        "# Try different values of k\n",
        "k_values = range(1, 21)\n",
        "accuracies = []\n",
        "\n",
        "for k in k_values:\n",
        "    knn = KNeighborsClassifier(n_neighbors=k)\n",
        "    knn.fit(X_train, y_train)\n",
        "    y_pred = knn.predict(X_test)\n",
        "    accuracies.append(accuracy_score(y_test, y_pred))\n",
        "\n",
        "# Find the k value with the maximum accuracy\n",
        "max_accuracy = max(accuracies)\n",
        "best_k = k_values[accuracies.index(max_accuracy)]\n",
        "\n",
        "# Plot the accuracy for different values of k\n",
        "plt.plot(k_values, accuracies, marker='o')\n",
        "plt.xlabel('Number of Neighbors (k)')\n",
        "plt.ylabel('Accuracy')\n",
        "plt.title('Accuracy for different values of k')\n",
        "\n",
        "# Annotate the plot with the maximum accuracy\n",
        "plt.annotate(f'Max Accuracy = {max_accuracy:.2f} at k = {best_k}',\n",
        "             xy=(best_k, max_accuracy),\n",
        "             xytext=(best_k, max_accuracy + 0.02),\n",
        "             arrowprops=dict(facecolor='black', shrink=0.05),\n",
        "             ha='center')\n",
        "\n",
        "plt.show()"
      ],
      "metadata": {
        "colab": {
          "base_uri": "https://localhost:8080/",
          "height": 484
        },
        "id": "VsHY_nPtf05K",
        "outputId": "0b4ee14d-91a5-45ce-80ad-9018f6836fca"
      },
      "execution_count": null,
      "outputs": [
        {
          "output_type": "display_data",
          "data": {
            "text/plain": [
              "<Figure size 640x480 with 1 Axes>"
            ],
            "image/png": "[encoded data removed]"
          },
          "metadata": {}
        }
      ]
    },
    {
      "cell_type": "code",
      "source": [
        "import pandas as pd\n",
        "from sklearn.model_selection import train_test_split\n",
        "from sklearn.preprocessing import StandardScaler\n",
        "from sklearn.neighbors import KNeighborsClassifier\n",
        "from sklearn.metrics import accuracy_score, classification_report\n",
        "\n",
        "# Load the data\n",
        "df = pd.read_csv('MHR.csv')\n",
        "\n",
        "# Separate features and target variable\n",
        "X = df.drop('RiskLevel', axis=1)\n",
        "y = df['RiskLevel']\n",
        "\n",
        "# Split the data into training and test sets\n",
        "X_train, X_test, y_train, y_test = train_test_split(X, y, test_size=0.2, random_state=42)\n",
        "\n",
        "# Standardize the features (important for k-NN)\n",
        "scaler = StandardScaler()\n",
        "X_train = scaler.fit_transform(X_train)\n",
        "X_test = scaler.transform(X_test)\n",
        "\n",
        "# Create and train the k-NN classifier\n",
        "k = 1  # You can choose any number of neighbors\n",
        "knn = KNeighborsClassifier(n_neighbors=k)\n",
        "knn.fit(X_train, y_train)\n",
        "\n",
        "# Make predictions on the test set\n",
        "y_pred = knn.predict(X_test)\n",
        "\n",
        "# Evaluate the model\n",
        "accuracy = accuracy_score(y_test, y_pred)\n",
        "print(f'Accuracy: {accuracy:.2f}')\n",
        "\n",
        "# Print classification report\n",
        "print(classification_report(y_test, y_pred))\n"
      ],
      "metadata": {
        "colab": {
          "base_uri": "https://localhost:8080/"
        },
        "id": "ol8vK34QgnsU",
        "outputId": "9d22308a-5430-4a87-93da-5948447b7caf"
      },
      "execution_count": null,
      "outputs": [
        {
          "output_type": "stream",
          "name": "stdout",
          "text": [
            "Accuracy: 0.81\n",
            "              precision    recall  f1-score   support\n",
            "\n",
            "   high risk       0.86      0.91      0.89        47\n",
            "    low risk       0.80      0.76      0.78        80\n",
            "    mid risk       0.79      0.80      0.80        76\n",
            "\n",
            "    accuracy                           0.81       203\n",
            "   macro avg       0.82      0.83      0.82       203\n",
            "weighted avg       0.81      0.81      0.81       203\n",
            "\n"
          ]
        }
      ]
    },
    {
      "cell_type": "markdown",
      "source": [
        "With \\( k=1 \\), the k-nearest neighbors (k-NN) model achieved an accuracy of 0.81 (81%), a significant improvement over previous attempts. The precision, recall, and F1-scores are high across all risk levels, particularly for \"high risk\" with an F1-score of 0.89. Both \"low risk\" and \"mid risk\" classes also perform well, with F1-scores of 0.78 and 0.80, respectively. The macro and weighted averages for precision, recall, and F1-score are consistently around 0.81 to 0.83, indicating balanced performance. This result suggests that using \\( k=1 \\) effectively captures the nearest neighbor's class, leading to better predictions for this dataset."
      ],
      "metadata": {
        "id": "cn738al0g8lb"
      }
    },
    {
      "cell_type": "markdown",
      "source": [],
      "metadata": {
        "id": "9oErfDqOg-M8"
      }
    }
  ]
}